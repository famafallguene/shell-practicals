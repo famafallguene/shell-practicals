{
 "cells": [
  {
   "cell_type": "markdown",
   "metadata": {
    "id": "LPINvDFo9Nce"
   },
   "source": [
    "\n",
    "\n",
    "    \n",
    "#    <center> <b> <span style=\"color:orange;\" >  `Python for Scientific Computing and Software Engineering ` </span> </b></center>\n",
    "\n",
    "\n",
    "## <center> <b> <span style=\"color:orange;\"> An Initiation to Programming using Python (Init2Py) </span> </b></center>\n",
    "\n",
    "### <center> <b> <span style=\"color:blue;\"> Travaux Pratiques: Loops</span> </b></center>\n",
    "\n",
    "\n",
    "\n",
    "\n",
    "\n",
    "\n",
    "\n"
   ]
  },
  {
   "cell_type": "markdown",
   "metadata": {
    "id": "0vAKMUYl9Nc1"
   },
   "source": [
    "#### Exercice 0\n",
    ">On se propose de résoudre dans l'ensemble des entiers naturels l'inéquation $2n(n+1)<100$.\n",
    "En utilisant une boucle **While**, écris un programme qui renvoie les solutions entières de cette inéquation."
   ]
  },
  {
   "cell_type": "code",
   "execution_count": 5,
   "metadata": {
    "id": "tnXJLyHA9Nc4"
   },
   "outputs": [
    {
     "name": "stdout",
     "output_type": "stream",
     "text": [
      "0\n",
      "1\n",
      "2\n",
      "3\n",
      "4\n",
      "5\n",
      "6\n"
     ]
    }
   ],
   "source": [
    "n=0\n",
    "while 2*n*(n+1)<100:\n",
    "    print(n)\n",
    "    n=n+1"
   ]
  },
  {
   "cell_type": "markdown",
   "metadata": {
    "id": "USaieP9c9Nc5"
   },
   "source": [
    "#### Exercice 1\n",
    "> En utilisant une boucle **For**, écris un programme qui calcule la somme des 30 premiers entiers naturels non nuls."
   ]
  },
  {
   "cell_type": "code",
   "execution_count": 10,
   "metadata": {
    "id": "-a76WFyH9Nc7"
   },
   "outputs": [
    {
     "name": "stdout",
     "output_type": "stream",
     "text": [
      "465\n"
     ]
    }
   ],
   "source": [
    "s=0\n",
    "for n in range(1,31):\n",
    "    s=s+n\n",
    "print(s)"
   ]
  },
  {
   "cell_type": "markdown",
   "metadata": {
    "id": "_070Czs09Nc8"
   },
   "source": [
    "#### Exercice 2\n",
    ">Refais l'exercice 1 en utilisant une boucle **While**."
   ]
  },
  {
   "cell_type": "code",
   "execution_count": 13,
   "metadata": {
    "id": "m7dg2bhR9Nc9"
   },
   "outputs": [
    {
     "name": "stdout",
     "output_type": "stream",
     "text": [
      "465\n"
     ]
    }
   ],
   "source": [
    "som=0\n",
    "n=1\n",
    "while n<=30:\n",
    "    som=som+n\n",
    "    n=n+1\n",
    "print(som)"
   ]
  },
  {
   "cell_type": "markdown",
   "metadata": {
    "id": "Hg1vBggc9Nc_"
   },
   "source": [
    "#### Exercice 3\n",
    ">En utilisant une boucle **For**, écris un programme qui calcule le produit des 9 premiers entiers naturels non nuls."
   ]
  },
  {
   "cell_type": "code",
   "execution_count": 14,
   "metadata": {
    "id": "h0TkyvqS9NdB"
   },
   "outputs": [
    {
     "name": "stdout",
     "output_type": "stream",
     "text": [
      "362880\n"
     ]
    }
   ],
   "source": [
    "prod=1\n",
    "for i in range(1,10):\n",
    "    prod=prod*i\n",
    "print(prod)"
   ]
  },
  {
   "cell_type": "markdown",
   "metadata": {
    "id": "a2iZm5y_9NdD"
   },
   "source": [
    "#### Exercice 4\n",
    "> Refais l'exercice 3 en utilisant une boucle **While**."
   ]
  },
  {
   "cell_type": "code",
   "execution_count": 15,
   "metadata": {},
   "outputs": [
    {
     "name": "stdout",
     "output_type": "stream",
     "text": [
      "362880\n"
     ]
    }
   ],
   "source": [
    "prod=1\n",
    "n=1\n",
    "while (n<=9):\n",
    "    prod=prod*n\n",
    "    n=n+1\n",
    "print(prod)"
   ]
  },
  {
   "cell_type": "markdown",
   "metadata": {
    "id": "rb3k7Bve9NdE"
   },
   "source": [
    "#### Exercice 5 \n",
    ">Écris un programme qui demande à l'utilisateur de saisir un nombre n et qui affiche tous les nombres pairs de $1$ à $n$ en utilisant la boucle **For**."
   ]
  },
  {
   "cell_type": "code",
   "execution_count": 16,
   "metadata": {
    "id": "ibXs9RCB9NdF"
   },
   "outputs": [
    {
     "name": "stdout",
     "output_type": "stream",
     "text": [
      "saisir un nombre n 12\n",
      "2  est pair\n",
      "4  est pair\n",
      "6  est pair\n",
      "8  est pair\n",
      "10  est pair\n",
      "12  est pair\n"
     ]
    }
   ],
   "source": [
    "n=int(input(\"saisir un nombre n \", ))\n",
    "i=1\n",
    "for i in range(1,n+1):\n",
    "    if (i%2==0):\n",
    "        print(i ,\" est pair\")"
   ]
  },
  {
   "cell_type": "markdown",
   "metadata": {
    "id": "HPC3bfyE9NdG"
   },
   "source": [
    "#### Exercice 6\n",
    ">Refais l'exercice 5 en utilisant la boucle **While**."
   ]
  },
  {
   "cell_type": "code",
   "execution_count": 17,
   "metadata": {
    "id": "dRuTyo3m9NdH"
   },
   "outputs": [
    {
     "name": "stdout",
     "output_type": "stream",
     "text": [
      "saisir un nombre n 12\n",
      "2  est pair\n",
      "4  est pair\n",
      "6  est pair\n",
      "8  est pair\n",
      "10  est pair\n",
      "12  est pair\n"
     ]
    }
   ],
   "source": [
    "n=int(input(\"saisir un nombre n \", ))\n",
    "i=1\n",
    "while i<=n:\n",
    "    if (i%2==0):\n",
    "        print(i , \" est pair\")\n",
    "    i=i+1"
   ]
  },
  {
   "cell_type": "markdown",
   "metadata": {
    "id": "6fNPIIdQ9NdH"
   },
   "source": [
    "#### Exercice 7\n",
    ">Écris un programme qui demande à l'utilisateur de saisir un nombre n et qui affiche tous les nombres impairs de 1 à n en utilisant la boucle **For**."
   ]
  },
  {
   "cell_type": "code",
   "execution_count": 18,
   "metadata": {
    "id": "LuVEv9Lc9NdI"
   },
   "outputs": [
    {
     "name": "stdout",
     "output_type": "stream",
     "text": [
      "saisir un nombre n 12\n",
      "1  est impair\n",
      "3  est impair\n",
      "5  est impair\n",
      "7  est impair\n",
      "9  est impair\n",
      "11  est impair\n"
     ]
    }
   ],
   "source": [
    "n=int(input(\"saisir un nombre n \", ))\n",
    "i=1\n",
    "for i in range(1,n+1):\n",
    "    if (i%2!=0):\n",
    "        print(i ,\" est impair\")"
   ]
  },
  {
   "cell_type": "markdown",
   "metadata": {
    "id": "HIlapsJ89NdK"
   },
   "source": [
    "#### Exercice 8\n",
    ">Refais l'exercice 7 en utilisant la boucle **While**.\n",
    "\n"
   ]
  },
  {
   "cell_type": "code",
   "execution_count": 19,
   "metadata": {
    "id": "Igvjeb2E9NdM"
   },
   "outputs": [
    {
     "name": "stdout",
     "output_type": "stream",
     "text": [
      "saisir un nombre n 12\n",
      "1  est impair\n",
      "3  est impair\n",
      "5  est impair\n",
      "7  est impair\n",
      "9  est impair\n",
      "11  est impair\n"
     ]
    }
   ],
   "source": [
    "n=int(input(\"saisir un nombre n \", ))\n",
    "i=1\n",
    "while i<=n:\n",
    "    if (i%2!=0):\n",
    "        print(i , \" est impair\")\n",
    "    i=i+1"
   ]
  },
  {
   "cell_type": "markdown",
   "metadata": {
    "id": "KOYLg_e79NdU"
   },
   "source": [
    "#### Exercice 9\n",
    ">Écris un programme qui demande à l'utilisateur de saisir un nombre n et qui affiche sa table de multiplication  en utilisant la boucle **For**."
   ]
  },
  {
   "cell_type": "code",
   "execution_count": 10,
   "metadata": {
    "id": "BvOU9oLw9NdU"
   },
   "outputs": [
    {
     "name": "stdout",
     "output_type": "stream",
     "text": [
      "saisir un nombre n 4\n",
      "4 * 1 = 4\n",
      "4 * 2 = 8\n",
      "4 * 3 = 12\n",
      "4 * 4 = 16\n",
      "4 * 5 = 20\n",
      "4 * 6 = 24\n",
      "4 * 7 = 28\n",
      "4 * 8 = 32\n",
      "4 * 9 = 36\n",
      "4 * 10 = 40\n"
     ]
    }
   ],
   "source": [
    "n=int(input(\"saisir un nombre n \", ))\n",
    "i=1\n",
    "a=1\n",
    "for i in range(1,11):\n",
    "    a=i*n\n",
    "    print(n,'*',i,'=',a)"
   ]
  },
  {
   "cell_type": "markdown",
   "metadata": {
    "id": "Ukzy78L09NdV"
   },
   "source": [
    "#### Exercice 10\n",
    ">Refais l'exercice 9 en utilisant la boucle **While**."
   ]
  },
  {
   "cell_type": "code",
   "execution_count": 25,
   "metadata": {
    "id": "fRJ3oufC9NdV"
   },
   "outputs": [
    {
     "name": "stdout",
     "output_type": "stream",
     "text": [
      "saisir un nombre n 12\n",
      "1\n",
      "2\n",
      "3\n",
      "4\n",
      "5\n",
      "6\n",
      "7\n",
      "8\n",
      "9\n",
      "10\n",
      "11\n",
      "12\n"
     ]
    }
   ],
   "source": [
    "n=int(input(\"saisir un nombre n \", ))\n",
    "i=1\n",
    "while i<=n:\n",
    "    print(i)\n",
    "    i=i+1"
   ]
  },
  {
   "cell_type": "markdown",
   "metadata": {
    "id": "AQW435Hq9NdW"
   },
   "source": [
    "#### Exercice 11\n",
    ">Écris un programme qui demande à l'utilisateur d'entrer un nombre et de trouver tous ses diviseurs  en utilisant la boucle **For**."
   ]
  },
  {
   "cell_type": "code",
   "execution_count": null,
   "metadata": {
    "id": "Zjs_NfT89NdX"
   },
   "outputs": [],
   "source": [
    "n=int(input(\"saisir un nombre n=  \",  ))\n",
    "for i in range(1,n+1):\n",
    "    if (n%i==0):\n",
    "        print(i, \" est diviseur de\", n )"
   ]
  },
  {
   "cell_type": "markdown",
   "metadata": {
    "id": "pGp6labk9NdX"
   },
   "source": [
    "#### Exercice 12\n",
    ">Écris un programme qui demande à l'utilisateur d'entrer un entier naturel n et de trouver tous sa factorielle n!  en utilisant la boucle **For**. On rappelle que $n!=n*(n-1)*(n-2)...3*2*1$."
   ]
  },
  {
   "cell_type": "code",
   "execution_count": 27,
   "metadata": {
    "id": "iDw3TKDU9NdX"
   },
   "outputs": [
    {
     "name": "stdout",
     "output_type": "stream",
     "text": [
      "saisir un entier naturel n=  4\n",
      "le factoriel de  4 est 24\n"
     ]
    }
   ],
   "source": [
    "n=int(input(\"saisir un entier naturel n=  \",  ))\n",
    "facto=1\n",
    "for i in range(1,n+1):\n",
    "    facto=facto*i\n",
    "print(\"le factoriel de \", n, \"est\", facto)"
   ]
  },
  {
   "cell_type": "markdown",
   "metadata": {
    "id": "eyKh1oTo9NdY"
   },
   "source": [
    "#### Exercice 13\n",
    ">Écris un programme qui demande à l'utilisateur d'entrer deux entiers naturels (plus petits que 15) et de trouver leur plus petit commun multiple utilisant la boucle **For**."
   ]
  },
  {
   "cell_type": "code",
   "execution_count": 28,
   "metadata": {
    "id": "ombGnLVQ9NdY"
   },
   "outputs": [
    {
     "name": "stdout",
     "output_type": "stream",
     "text": [
      "Donner un entier naturel plus petit que 15 n=  4\n",
      "Donner un entier naturel plus petit que 15 m=  5\n",
      "le ppcm de 4 et 5 est 20\n"
     ]
    }
   ],
   "source": [
    "n_1=int(input(\"Donner un entier naturel plus petit que 15 n=  \"  ))\n",
    "n_2=int(input(\"Donner un entier naturel plus petit que 15 m=  \"  ))\n",
    "for i in range(1,(n_1*n_2)+1):\n",
    "    if (n_1%n_2==0):\n",
    "        print(\"le ppcm de\", n_1,\"et\", n_2 ,\"est\", n_1)\n",
    "        break\n",
    "    elif (n_2%n_1==0):\n",
    "        print(\"le ppcm de\" ,n_1 ,\"et\", n_2 ,\"est\", n_2)\n",
    "        break\n",
    "    else:\n",
    "        print(\"le ppcm de\" ,n_1 ,\"et\", n_2 ,\"est\", n_1*n_2)\n",
    "        break"
   ]
  },
  {
   "cell_type": "markdown",
   "metadata": {
    "id": "j4zO7-ak9NdZ"
   },
   "source": [
    "#### Exercice 14\n",
    ">Écris un programme pour afficher la série de Fibonacci jusqu'à n termes en utilisant une boucle."
   ]
  },
  {
   "cell_type": "code",
   "execution_count": 31,
   "metadata": {
    "id": "5UknLOdY9NdZ"
   },
   "outputs": [
    {
     "name": "stdout",
     "output_type": "stream",
     "text": [
      "entrer la valeur de n : 12\n",
      "on a la suite : \n",
      "  1 \n",
      " 1\n",
      "2\n",
      "3\n",
      "5\n",
      "8\n",
      "13\n",
      "21\n",
      "34\n",
      "55\n",
      "89\n",
      "144\n"
     ]
    }
   ],
   "source": [
    "l=1\n",
    "m=1\n",
    "n=int(input(\"entrer la valeur de n : \"))\n",
    "if (n<1):\n",
    "    print(\"pas de suite\")\n",
    "elif(n>=1 and n<=2):\n",
    "    print(\"la suite de fibonacci est: 1 1 \")\n",
    "else:\n",
    "    i=1\n",
    "    print(\"on a la suite : \\n \",\"1 \\n\",\"1\")\n",
    "    while(i<=n-2):\n",
    "        d=l+m\n",
    "        m=l\n",
    "        l=d\n",
    "        i+=1\n",
    "        print(d)"
   ]
  },
  {
   "cell_type": "markdown",
   "metadata": {
    "id": "_RBVFZdl9Nda"
   },
   "source": [
    "#### Exercice 15\n",
    ">Écris, en utilisant une boucle **For**, un programme pour afficher 5 fois de suite le message \"Python est un très bon langage de programmation\"."
   ]
  },
  {
   "cell_type": "code",
   "execution_count": 32,
   "metadata": {
    "id": "IA5dPbgd9Nda"
   },
   "outputs": [
    {
     "name": "stdout",
     "output_type": "stream",
     "text": [
      "Python est un très bon langage de programmation\n",
      "Python est un très bon langage de programmation\n",
      "Python est un très bon langage de programmation\n",
      "Python est un très bon langage de programmation\n",
      "Python est un très bon langage de programmation\n"
     ]
    }
   ],
   "source": [
    "for i in range(1,6):\n",
    "    print(\"Python est un très bon langage de programmation\")"
   ]
  },
  {
   "cell_type": "markdown",
   "metadata": {
    "id": "VUgurSg59Nda"
   },
   "source": [
    "#### Exercice 16\n",
    ">Écris, en utilisant une boucle **While**, un programme pour afficher 7 fois de suite le message \"A cette allure je finirai par tout abandonner pour la programmation\"."
   ]
  },
  {
   "cell_type": "code",
   "execution_count": 37,
   "metadata": {
    "id": "TgE99bdh9Ndb"
   },
   "outputs": [
    {
     "name": "stdout",
     "output_type": "stream",
     "text": [
      "Python est un très bon langage de programmation\n",
      "Python est un très bon langage de programmation\n",
      "Python est un très bon langage de programmation\n",
      "Python est un très bon langage de programmation\n",
      "Python est un très bon langage de programmation\n"
     ]
    }
   ],
   "source": [
    "n=1\n",
    "while n<=5:\n",
    "    print(\"Python est un très bon langage de programmation\")\n",
    "    n=n+1"
   ]
  },
  {
   "cell_type": "markdown",
   "metadata": {
    "id": "DVgTXQRX9Ndb"
   },
   "source": [
    "#### Exercice 17\n",
    ">Écris, en utilisant une boucle **For**, un programme qui compte à l'envers de 10 à 0 puis qui affiche le message \"Partez\".\n"
   ]
  },
  {
   "cell_type": "code",
   "execution_count": 38,
   "metadata": {
    "id": "w4L4KV6C9Ndc"
   },
   "outputs": [
    {
     "name": "stdout",
     "output_type": "stream",
     "text": [
      "10\n",
      "9\n",
      "8\n",
      "7\n",
      "6\n",
      "5\n",
      "4\n",
      "3\n",
      "2\n",
      "1\n",
      "0\n",
      "Partez\n"
     ]
    }
   ],
   "source": [
    "n=11\n",
    "for i in range(n):\n",
    "    n=n-1\n",
    "    print(n)\n",
    "print( \"Partez\")"
   ]
  },
  {
   "cell_type": "markdown",
   "metadata": {
    "id": "raJAaAd29Ndc"
   },
   "source": [
    "#### Exercice 18\n",
    ">Écris, en utilisant une boucle **For**, un programme qui affiche chaque élément d'une chaine de caractère."
   ]
  },
  {
   "cell_type": "code",
   "execution_count": 40,
   "metadata": {
    "id": "wZv1gX4c9Ndd"
   },
   "outputs": [
    {
     "name": "stdout",
     "output_type": "stream",
     "text": [
      "f\n",
      "a\n",
      "m\n",
      "f\n",
      "a\n",
      "l\n",
      "l\n"
     ]
    }
   ],
   "source": [
    "chaine=\"famfall\"\n",
    "for i in chaine:\n",
    "    print(i)"
   ]
  },
  {
   "cell_type": "markdown",
   "metadata": {
    "id": "095_Dtoc9Ndf"
   },
   "source": [
    "#### Exercice 19\n",
    ">Écris, en utilisant une boucle **For**, un programme qui compte à l'envers de 10 à 0 puis qui affiche le message \"Partez\"."
   ]
  },
  {
   "cell_type": "code",
   "execution_count": 41,
   "metadata": {
    "id": "MOV4pZzn9Ndg"
   },
   "outputs": [
    {
     "name": "stdout",
     "output_type": "stream",
     "text": [
      "10\n",
      "9\n",
      "8\n",
      "7\n",
      "6\n",
      "5\n",
      "4\n",
      "3\n",
      "2\n",
      "1\n",
      "0\n",
      "Partez\n"
     ]
    }
   ],
   "source": [
    "n=11\n",
    "for i in range(n):\n",
    "    n=n-1\n",
    "    print(n)\n",
    "print( \"Partez\")"
   ]
  },
  {
   "cell_type": "markdown",
   "metadata": {
    "id": "5sUU7dgJ9Ndh"
   },
   "source": [
    "<center> <b> <span style=\"color:orange;\"> 🎉 FÉLICITATIONS ! / CONGRATULATIONS! 🎉 </span> </b></center>"
   ]
  }
 ],
 "metadata": {
  "colab": {
   "name": "Exercices_03_Boucles.ipynb",
   "provenance": []
  },
  "kernelspec": {
   "display_name": "Python 3",
   "language": "python",
   "name": "python3"
  },
  "language_info": {
   "codemirror_mode": {
    "name": "ipython",
    "version": 3
   },
   "file_extension": ".py",
   "mimetype": "text/x-python",
   "name": "python",
   "nbconvert_exporter": "python",
   "pygments_lexer": "ipython3",
   "version": "3.8.10"
  }
 },
 "nbformat": 4,
 "nbformat_minor": 1
}

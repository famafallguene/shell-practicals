{
 "cells": [
  {
   "cell_type": "markdown",
   "metadata": {},
   "source": [
    "<center>\n",
    "    <a href=\"https://www.aims-senegal.org/\" ><img src=\"aimssn_logo.png\" style=\"float:center; max-width: 600px; display: inline\" alt=\"IMSP\"/> </a>\n",
    "    </center>\n",
    "    \n",
    "#    <center> <b> <span style=\"color:orange;\" >  `Python for Scientific Computing and Software Engineering ` </span> </b></center>\n",
    "\n",
    "\n",
    "## <center> <b> <span style=\"color:orange;\"> An Initiation to Programming using Python (Init2Py) </span> </b></center>\n",
    "\n",
    "### <center> <b> <span style=\"color:blue;\"> Practicals: Variables, Types & Operations </span> </b></center>"
   ]
  },
  {
   "cell_type": "markdown",
   "metadata": {},
   "source": [
    "**Exercise 00:**  \n",
    "\n",
    "> 1. Declare a variable `firstname` and assign it a value.\n",
    "> 2. Declare a `lastname` variable and assign a value to it.\n",
    "> 3. Declare a `full_name` variable and assign it a value.\n",
    "> 4. Declare a `country` variable and assign it a value.\n",
    "> 5. Declare a variable `city` and assign it a value.\n",
    "> 6. Declare a `age` variable and assign it a value.\n",
    "> 7. Declare a variable `year` and assign it a value.\n",
    "> 8. Declare a variable `is_marrie` and assign it a value.\n",
    "> 9. Declare a variable `is_true` and assign it a value.\n",
    "\n",
    "> For each of the above variable, display the value it contains using the `print()` function.\n",
    "\n",
    "\n"
   ]
  },
  {
   "cell_type": "code",
   "execution_count": null,
   "metadata": {},
   "outputs": [],
   "source": [
    "firstname=\"Fam fall\"\n",
    "print(\"the firstname is :\",firstname)\n",
    "lastname= 'GUENE'\n",
    "print(\"The lastname is :\",lastname)\n",
    "ful_name=\"Fam fall GUENE\"\n",
    "print(\"The full name is :\",ful_name)\n",
    "country=\"Sénégal\"\n",
    "print(\"The countryis :\",country)\n",
    "city=\"Dakar\"\n",
    "print(\"The city is :\",city)\n",
    "age=25\n",
    "print(\"The age is :\",age)\n",
    "year=2021\n",
    "print(\"The year is :\",year)\n",
    "is_marrie=\"True\"\n",
    "print(is_marrie)\n",
    "is_true=\"True\"\n",
    "print(is_true)\n"
   ]
  },
  {
   "cell_type": "markdown",
   "metadata": {},
   "source": [
    "**Exercise 01:** \n",
    "> Check the data type of all your variables using the built-in function `type()`.**\n"
   ]
  },
  {
   "cell_type": "code",
   "execution_count": null,
   "metadata": {},
   "outputs": [],
   "source": [
    "type(firstname),type(lastname),type(ful_name),type(year),type(age),type(year),type(is_marrie),type(is_true)"
   ]
  },
  {
   "cell_type": "markdown",
   "metadata": {},
   "source": [
    "**Exercise 02:** \n",
    "> Calculate the value of $y$ ($y = x^2 + 6x + 9$). Try using different values of $x$ and determine at what value of $x$ will $y$ be equal to 0.**"
   ]
  },
  {
   "cell_type": "code",
   "execution_count": 35,
   "metadata": {},
   "outputs": [
    {
     "name": "stdout",
     "output_type": "stream",
     "text": [
      "44\n",
      "131\n",
      "0\n",
      "-3.0\n"
     ]
    }
   ],
   "source": [
    "\n",
    "x = 5\n",
    "\n",
    "y = x^2 + 6*x + 9\n",
    "print(y)\n",
    "x = 24\n",
    "y = x^2 + 6*x + 9\n",
    "print(y)\n",
    "y = 0\n",
    "y=x^2 + 6*x + 9 \n",
    "d =  6*6 - 4*1*9 \n",
    "\n",
    "print(d)\n",
    "x = - 6/2\n",
    "print(x)"
   ]
  },
  {
   "cell_type": "markdown",
   "metadata": {},
   "source": [
    "**Exercise 03:** \n",
    ">    \n",
    "     1. Declare your age as an integer variable\n",
    "     2. Declare your height as a float variable\n",
    "     3. Declare a variable that stores the base and height of a triangle. Calculate the area of this triangle (area = 0.5 x b x h)."
   ]
  },
  {
   "cell_type": "code",
   "execution_count": 36,
   "metadata": {},
   "outputs": [
    {
     "name": "stdout",
     "output_type": "stream",
     "text": [
      "20\n"
     ]
    }
   ],
   "source": [
    "age=input()"
   ]
  },
  {
   "cell_type": "code",
   "execution_count": 37,
   "metadata": {},
   "outputs": [],
   "source": [
    "height=float()"
   ]
  },
  {
   "cell_type": "code",
   "execution_count": 38,
   "metadata": {},
   "outputs": [
    {
     "name": "stdout",
     "output_type": "stream",
     "text": [
      "entrer la base2\n",
      "entre height3\n",
      "3.0\n"
     ]
    }
   ],
   "source": [
    "b=input(\"entrer la base\")\n",
    "h=input(\"entre height\")\n",
    "area = 0.5*float(b)*float(h)\n",
    "print(area) "
   ]
  },
  {
   "cell_type": "markdown",
   "metadata": {},
   "source": [
    "## *Tip: receiving input from the user *\n",
    "**To receive an input from the user, we use `input()`.**.\n",
    "\n",
    "**Example**\n",
    "Receive two numbers as input from the user and calculate their power:\n",
    "```python\n",
    "base = input(\"Enter a base: \")\n",
    "exponent = input(\"Enter an exponent: \")\n",
    "result = float(base) ** float(exponent)\n",
    "print(f \"{base} to the power of {exponent} = {result}\")\n",
    "```"
   ]
  },
  {
   "cell_type": "markdown",
   "metadata": {},
   "source": [
    "**Exercise 04:** \n",
    "> **Write a small code that asks the user to enter the side $a$, the side $b$ and the side $c$ of a triangle. Calculate the perimeter of the triangle (perimeter = a + b + c).**"
   ]
  },
  {
   "cell_type": "code",
   "execution_count": 39,
   "metadata": {},
   "outputs": [
    {
     "name": "stdout",
     "output_type": "stream",
     "text": [
      "entrer the side a :2\n",
      "entre the side b :3\n",
      "entre the side c :4\n",
      "9.0\n"
     ]
    }
   ],
   "source": [
    "a=input(\"entrer the side a :\")\n",
    "b=input(\"entre the side b :\")\n",
    "c=input(\"entre the side c :\")\n",
    "p=float(a)+float(b)+float(c)\n",
    "print(p)\n"
   ]
  },
  {
   "cell_type": "markdown",
   "metadata": {},
   "source": [
    "**Exercise 05:** \n",
    "> **Obtain the length and width of a rectangle using the prompt. Calculate its `area`and its `perimeter`.**"
   ]
  },
  {
   "cell_type": "code",
   "execution_count": 40,
   "metadata": {},
   "outputs": [
    {
     "name": "stdout",
     "output_type": "stream",
     "text": [
      "entrer the length :4\n",
      "entre the width :5\n",
      "20.0\n",
      "18.0\n"
     ]
    }
   ],
   "source": [
    "a=input(\"entrer the length :\")\n",
    "b=input(\"entre the width :\")\n",
    "area=float(a)*float(b)\n",
    "print(area)\n",
    "per=(float(a)+float(b))*2\n",
    "print(per)"
   ]
  },
  {
   "cell_type": "markdown",
   "metadata": {},
   "source": [
    "**Exercice 06:** \n",
    "> **Obtenez le rayon d'un cercle en utilisant l'invite. Calculez l'aire (aire = pi x r x r) et la circonférence (c = 2 x pi x r) où pi = 3,14.**"
   ]
  },
  {
   "cell_type": "code",
   "execution_count": 41,
   "metadata": {},
   "outputs": [
    {
     "name": "stdout",
     "output_type": "stream",
     "text": [
      "enter the rayon :6\n",
      "113.03999999999999\n"
     ]
    }
   ],
   "source": [
    "r=input(\"enter the rayon :\")\n",
    "#aire = pi x r x r\n",
    "pi=3.14\n",
    "aire= pi*float(r)*float(r)\n",
    "print(aire)"
   ]
  },
  {
   "cell_type": "markdown",
   "metadata": {},
   "source": [
    "**Exercice 07:**\n",
    "> **Calculez la pente, l'ordonnée à l'origine en x et l'ordonnée à l'origine en $y$ de $y = 2x -2$.**"
   ]
  },
  {
   "cell_type": "code",
   "execution_count": 42,
   "metadata": {},
   "outputs": [
    {
     "name": "stdout",
     "output_type": "stream",
     "text": [
      "la pente est :  2\n",
      "l'ordonnée à origine en x: -2\n",
      "l'ordonnée à origine en y 1.0\n"
     ]
    }
   ],
   "source": [
    "pente = 2\n",
    "print(\"la pente est : \",pente)\n",
    "x = 0\n",
    "y = 2*x - 2 \n",
    "print(\"l'ordonnée à origine en x:\",y) \n",
    "y = 0 \n",
    "x = 0.5*(y+2)\n",
    "print(\"l'ordonnée à origine en y\" ,x)"
   ]
  },
  {
   "cell_type": "markdown",
   "metadata": {},
   "source": [
    "**Exercice 08:** \n",
    "> **Rédigez un script qui demande à l'utilisateur d'entrer les heures et le taux horaire. Calculez la rémunération de la personne ?**"
   ]
  },
  {
   "cell_type": "code",
   "execution_count": 43,
   "metadata": {},
   "outputs": [
    {
     "name": "stdout",
     "output_type": "stream",
     "text": [
      "entrer l'heure :7\n",
      "entrer le taux horaire :2000\n",
      "14000\n"
     ]
    }
   ],
   "source": [
    "h=input(\"entrer l'heure :\")\n",
    "taux_horaire=input(\"entrer le taux horaire :\")\n",
    "RP=int(h)*int(taux_horaire)\n",
    "print(RP)"
   ]
  },
  {
   "cell_type": "markdown",
   "metadata": {},
   "source": [
    "**Exercice 09:** \n",
    "> **Écrivez un script qui demande à l'utilisateur d'entrer le nombre d'années. Calculez le nombre de secondes qu'une personne peut vivre. Supposons qu'une personne puisse vivre cent ans.**"
   ]
  },
  {
   "cell_type": "code",
   "execution_count": 45,
   "metadata": {},
   "outputs": [
    {
     "name": "stdout",
     "output_type": "stream",
     "text": [
      "entrer le nombre d'années :100\n",
      "3153600000.0\n"
     ]
    }
   ],
   "source": [
    "nb_an=input(\"entrer le nombre d'années :\")\n",
    "jours=float(nb_an)*365\n",
    "heure=float(jours)*24\n",
    "nb_sec=float(heure)*3600\n",
    "print(nb_sec)"
   ]
  },
  {
   "cell_type": "markdown",
   "metadata": {},
   "source": [
    "**Exercice 10:** \n",
    "> **Écrivez un script Python qui affiche le tableau suivant**\n",
    "\n",
    "    1 1 1 1 1\n",
    "    \n",
    "    2 1 2 4 8\n",
    "    \n",
    "    3 1 3 9 27\n",
    "    \n",
    "    4 1 4 16 64\n",
    "    \n",
    "    5 1 5 25 125"
   ]
  },
  {
   "cell_type": "code",
   "execution_count": 46,
   "metadata": {},
   "outputs": [
    {
     "name": "stdout",
     "output_type": "stream",
     "text": [
      "1 1 1 1 1\n",
      "2 1 2 4 8\n",
      "3 1 3 9 27\n",
      "4 1 4 16 64\n",
      "5 1 5 25 125\n"
     ]
    }
   ],
   "source": [
    "a=0\n",
    "while a < 5:\n",
    "    a=a+1\n",
    "    print(a,1,a,a**2,a**3)"
   ]
  },
  {
   "cell_type": "markdown",
   "metadata": {},
   "source": [
    "**Exercise 11:** \n",
    ">**Assign the variables `time` and `distance` with the values $6.892$ and $19.7$. Calculate and display the value of the speed. Improve the display by imposing a digit after the decimal point.**"
   ]
  },
  {
   "cell_type": "code",
   "execution_count": 48,
   "metadata": {},
   "outputs": [
    {
     "name": "stdout",
     "output_type": "stream",
     "text": [
      "speed :  2.8583865351131745\n"
     ]
    }
   ],
   "source": [
    "t=6.892\n",
    "d=19.7\n",
    "speed=(float(d))/float(t)\n",
    "print(\"speed : \",speed)"
   ]
  },
  {
   "cell_type": "markdown",
   "metadata": {},
   "source": [
    "**Exercice 12:** \n",
    "> **Écrire un programme qui, à partir de la saisie d’un rayon et d’une hauteur, calcule levolume d’un cône droit.**"
   ]
  },
  {
   "cell_type": "code",
   "execution_count": 49,
   "metadata": {},
   "outputs": [
    {
     "name": "stdout",
     "output_type": "stream",
     "text": [
      "entrer un rayon :6\n",
      "entrer une hauteur :18\n",
      "678.2399999999999\n"
     ]
    }
   ],
   "source": [
    "Rayon=input(\"entrer un rayon :\")\n",
    "Hauteur=input(\"entrer une hauteur :\")\n",
    "# V = (1/3)πr²h\n",
    "pi=3.14\n",
    "Volume=(1/3)*pi*float(Rayon)*float(Rayon)*float(Hauteur)\n",
    "print(Volume)"
   ]
  },
  {
   "cell_type": "markdown",
   "metadata": {},
   "source": [
    "**Exercise 13:** \n",
    "> **The user gives a positive integer and the program announces how many times in a row this integer is divisible by 2.**"
   ]
  },
  {
   "cell_type": "code",
   "execution_count": 50,
   "metadata": {},
   "outputs": [
    {
     "name": "stdout",
     "output_type": "stream",
     "text": [
      "Entrez un entier strictement positif :12\n",
      "12 est 2 fois divisible par 2.\n"
     ]
    }
   ],
   "source": [
    "\n",
    "n = int(input(\"Entrez un entier strictement positif :\"))\n",
    "while n < 1:\n",
    "    n = int(input())\n",
    "nombre= n\n",
    "\n",
    "nb_fois = 0\n",
    "while n%2 == 0:\n",
    "    n /= 2\n",
    "    nb_fois += 1\n",
    "\n",
    "print(nombre, \"est\", nb_fois, \"fois divisible par 2.\")"
   ]
  },
  {
   "cell_type": "markdown",
   "metadata": {},
   "source": [
    "**Exercise 14:** \n",
    ">**The user gives an integer between 2 and 12, the program gives the number of ways to do this by rolling two dice."
   ]
  },
  {
   "cell_type": "code",
   "execution_count": 53,
   "metadata": {},
   "outputs": [
    {
     "name": "stdout",
     "output_type": "stream",
     "text": [
      "Entrez un entier [2 .. 12] :3\n",
      "2\n"
     ]
    }
   ],
   "source": [
    "n = int(input(\"Entrez un entier [2 .. 12] :\"))\n",
    "while not(n >= 2 and n <= 12) :\n",
    "    n = int(input(\"Entrez un entier [2 .. 12], s.v.p. :\"))\n",
    "\n",
    "s = 0\n",
    "for i in range(1, 7) :\n",
    "    for j in range(1, 7) :\n",
    "        if i+j == n :\n",
    "            s += 1\n",
    "print(s)\n",
    "#print(\"Il y a { :d} façon(s) de faire { :d} avec deux dés.\".format(s, n))"
   ]
  },
  {
   "cell_type": "markdown",
   "metadata": {},
   "source": [
    "**Exercice 15:** \n",
    "> **Utilisez la fonction d'entrée intégrée `input()` pour obtenir le `_prénom_`, le `_nom_`, le `_pays_d_origine` et l'`_age_` d'un utilisateur et stockez la valeur dans les noms des variables correspondantes.**"
   ]
  },
  {
   "cell_type": "code",
   "execution_count": 54,
   "metadata": {},
   "outputs": [
    {
     "name": "stdout",
     "output_type": "stream",
     "text": [
      "Donner le prénom :Fama\n",
      "Donner le nom :GUENE\n",
      "Donner le pays d'origine :SENEGAL\n",
      "Donner l'age :25\n"
     ]
    }
   ],
   "source": [
    "Prenom=input(\"Donner le prénom :\")\n",
    "Nom=input(\"Donner le nom :\")\n",
    "Pays_d_origine=input(\"Donner le pays d'origine :\")\n",
    "Age=input(\"Donner l'age :\")"
   ]
  },
  {
   "cell_type": "markdown",
   "metadata": {},
   "source": [
    "**Exercice 16:** \n",
    "\n",
    "**Déclarer $5$ comme `num_one` et $4$ comme `num_two`**\n",
    "\n",
    "   1. Additionner `num_one` et `num_two` et affecter la valeur à une variable `totale`.\n",
    "   2. Soustraire `num_two` de `num_one` et affecter la valeur à une variable `diff`.\n",
    "   3. Multipliez le `num_one` et le `num_two` et attribuez la valeur à une variable `produit`.\n",
    "   4. Divisez le `num_one` par le `num_two` et attribuez la valeur à une variable `division`.\n",
    "   5. Calculez `num_one` à la puissance de `num_two` et attribuez la valeur à une variable `exp`."
   ]
  },
  {
   "cell_type": "code",
   "execution_count": 55,
   "metadata": {},
   "outputs": [
    {
     "name": "stdout",
     "output_type": "stream",
     "text": [
      "9.0\n",
      "-1\n",
      "20\n",
      "1.25\n",
      "625\n"
     ]
    }
   ],
   "source": [
    "num_one=5\n",
    "num_two=4\n",
    "totale=float(num_one)+float(num_two)\n",
    "print(totale)\n",
    "diff=int(num_two)-int(num_one)\n",
    "print(diff)\n",
    "produit=int(num_one)*int(num_two)\n",
    "print(produit)\n",
    "division=int(num_one)/int(num_two)\n",
    "print(division)\n",
    "esp=int(num_one)**int(num_two)\n",
    "print(esp)\n"
   ]
  },
  {
   "cell_type": "markdown",
   "metadata": {},
   "source": [
    "<center> <b> <span style=\"color:orange;\"> 🎉 FÉLICITATIONS! / CONGRATULATIONS! 🎉 </span> </b></center>"
   ]
  }
 ],
 "metadata": {
  "kernelspec": {
   "display_name": "Python 3",
   "language": "python",
   "name": "python3"
  },
  "language_info": {
   "codemirror_mode": {
    "name": "ipython",
    "version": 3
   },
   "file_extension": ".py",
   "mimetype": "text/x-python",
   "name": "python",
   "nbconvert_exporter": "python",
   "pygments_lexer": "ipython3",
   "version": "3.8.10"
  }
 },
 "nbformat": 4,
 "nbformat_minor": 5
}

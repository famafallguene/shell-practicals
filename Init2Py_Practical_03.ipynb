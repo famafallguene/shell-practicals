{
 "cells": [
  {
   "cell_type": "markdown",
   "metadata": {
    "id": "12_fdbLn8p4A"
   },
   "source": [
    "\n",
    "\n",
    "    \n",
    "#    <center> <b> <span style=\"color:orange;\" >  `Python for Scientific Computing and Software Engineering ` </span> </b></center>\n",
    "\n",
    "\n",
    "## <center> <b> <span style=\"color:orange;\"> An Initiation to Programming using Python (Init2Py) </span> </b></center>\n",
    "\n",
    "### <center> <b> <span style=\"color:blue;\"> Travaux Pratiques: Objets itérables ou conteneurs</span> </b></center>\n"
   ]
  },
  {
   "cell_type": "markdown",
   "metadata": {
    "id": "E_ZB23H68p4D"
   },
   "source": [
    "###  <center> <b> <span style=\"color:blue;\"> Listes </span> </b></center>"
   ]
  },
  {
   "cell_type": "markdown",
   "metadata": {
    "id": "H0cIcjGk8p4G"
   },
   "source": [
    "#### **Exercice 00:** \n",
    ">**Déclarer une liste vide.**"
   ]
  },
  {
   "cell_type": "code",
   "execution_count": 4,
   "metadata": {
    "id": "45QEMilz8p4I"
   },
   "outputs": [],
   "source": [
    "l = list()"
   ]
  },
  {
   "cell_type": "markdown",
   "metadata": {
    "id": "zZ0XnwpB8p4J"
   },
   "source": [
    "#### **Exercice 01:** \n",
    ">**Déclarer une liste de plus de 5 éléments.**"
   ]
  },
  {
   "cell_type": "code",
   "execution_count": 8,
   "metadata": {
    "id": "HV32hLfA8p4L"
   },
   "outputs": [],
   "source": [
    "l=[1,2,3,4,5,6,7,8,9,10,11]"
   ]
  },
  {
   "cell_type": "markdown",
   "metadata": {
    "id": "tJpy6kNz8p4M"
   },
   "source": [
    "#### **Exercice 02:** \n",
    ">**Trouver la longueur de votre liste.**"
   ]
  },
  {
   "cell_type": "code",
   "execution_count": 9,
   "metadata": {
    "id": "627A_RNw8p4O"
   },
   "outputs": [
    {
     "data": {
      "text/plain": [
       "11"
      ]
     },
     "execution_count": 9,
     "metadata": {},
     "output_type": "execute_result"
    }
   ],
   "source": [
    "len(l)"
   ]
  },
  {
   "cell_type": "markdown",
   "metadata": {
    "id": "unFrwT5t8p4Q"
   },
   "source": [
    "#### **Exercice 03:** \n",
    ">**Obtenez le premier élément, l'élément central et le dernier élément de la liste.**\n",
    "\n"
   ]
  },
  {
   "cell_type": "code",
   "execution_count": 11,
   "metadata": {
    "id": "MUuc1gaQ8p4R"
   },
   "outputs": [
    {
     "name": "stdout",
     "output_type": "stream",
     "text": [
      "1\n",
      "6\n",
      "11\n"
     ]
    }
   ],
   "source": [
    "print(l[0])\n",
    "\n",
    "print(l[int(len(l)/2)])\n",
    "\n",
    "print(l[-1])\n"
   ]
  },
  {
   "cell_type": "markdown",
   "metadata": {
    "id": "4Rqp8q0L8p4R"
   },
   "source": [
    "#### **Exercice 04:** \n",
    ">**Déclarez une liste appelée mixed_data_types, mettez votre (nom, âge, taille, état civil, adresse).**"
   ]
  },
  {
   "cell_type": "code",
   "execution_count": 13,
   "metadata": {
    "id": "EoZPW2UH8p4S"
   },
   "outputs": [
    {
     "name": "stdout",
     "output_type": "stream",
     "text": [
      "['Fama', 25, 1.7, 'Mariée', 'Dakar']\n"
     ]
    }
   ],
   "source": [
    "mixed_data_types=[\"Fama\",25, 1.70,\"Mariée\",\"Dakar\"]\n",
    "print(mixed_data_types)"
   ]
  },
  {
   "cell_type": "markdown",
   "metadata": {
    "id": "OPYSNV1l8p4T"
   },
   "source": [
    "#### **Exercice 05:** \n",
    "\n",
    "    1. Déclarez une variable liste appelée it_companies et attribuez les valeurs initiales Facebook, Google, Microsoft, Apple, IBM, Oracle et Amazon.\n",
    "\n",
    "    2. Imprimez la liste à l'aide de print()\n",
    "\n",
    "    3. Imprimez le nombre d'entreprises dans la liste\n",
    "\n",
    "    4. Imprimez la première, la moyenne et la dernière entreprise\n",
    "\n",
    "    5. Imprimez la liste après avoir modifié l'une des entreprises.\n",
    "\n",
    "    6. Ajout d'une entreprise informatique à it_companies\n",
    "\n",
    "    7. Insérer une entreprise informatique au milieu de la liste des entreprises\n",
    "\n",
    "    8. Changez le nom d'une des it_companies en majuscule (sauf IBM !)\n",
    "\n",
    "    9. Joignez les it_companies avec une chaîne '# ; '.\n",
    "\n",
    "    10. Vérifier si une certaine entreprise existe dans la liste it_companies.\n",
    "\n",
    "    11. Trier la liste en utilisant la méthode sort()\n",
    "\n",
    "    12. Inversez la liste par ordre décroissant à l'aide de la méthode reverse().\n",
    "\n",
    "    13. Supprimez les 3 premières entreprises de la liste.\n",
    "\n",
    "    14. Supprimez les 3 dernières entreprises de la liste.\n",
    "\n",
    "    15. Supprimez la ou les entreprises informatiques du milieu de la liste.\n",
    "\n",
    "    16. Supprimez la première entreprise informatique de la liste\n",
    "\n",
    "    17. Supprimez la ou les entreprises informatiques du milieu de la liste.\n",
    "\n",
    "    18. Retirer la dernière entreprise informatique de la liste\n",
    "\n",
    "    19. Supprimez toutes les entreprises informatiques de la liste\n",
    "\n",
    "    20. Détruire la liste des entreprises informatiques"
   ]
  },
  {
   "cell_type": "markdown",
   "metadata": {},
   "source": [
    "1.Déclarez une variable liste appelée it_companies"
   ]
  },
  {
   "cell_type": "markdown",
   "metadata": {},
   "source": [
    "2.Imprimez la liste à l'aide de print()"
   ]
  },
  {
   "cell_type": "code",
   "execution_count": 16,
   "metadata": {
    "id": "4M_XODba8p4V"
   },
   "outputs": [
    {
     "name": "stdout",
     "output_type": "stream",
     "text": [
      "['Facebook', 'Google', 'Microsoft', 'Apple', 'IBM', 'Oracle', 'Amazon']\n"
     ]
    }
   ],
   "source": [
    "it_companies=[\"Facebook\",\"Google\", \"Microsoft\", \"Apple\", \"IBM\", \"Oracle\", \"Amazon\"]\n",
    "print(it_companies)"
   ]
  },
  {
   "cell_type": "markdown",
   "metadata": {},
   "source": [
    "3.imprimez le nombre d'entreprises dans la liste"
   ]
  },
  {
   "cell_type": "code",
   "execution_count": 17,
   "metadata": {},
   "outputs": [
    {
     "name": "stdout",
     "output_type": "stream",
     "text": [
      "7\n"
     ]
    }
   ],
   "source": [
    "it_companies=[\"Facebook\",\"Google\", \"Microsoft\", \"Apple\", \"IBM\", \"Oracle\", \"Amazon\"]\n",
    "print(len(it_companies))"
   ]
  },
  {
   "cell_type": "markdown",
   "metadata": {},
   "source": [
    "4.imprimez la première, la moyenne et la dernière entreprise"
   ]
  },
  {
   "cell_type": "code",
   "execution_count": 19,
   "metadata": {},
   "outputs": [
    {
     "name": "stdout",
     "output_type": "stream",
     "text": [
      "Facebook Apple Amazon\n"
     ]
    }
   ],
   "source": [
    "it_companies=[\"Facebook\",\"Google\", \"Microsoft\", \"Apple\", \"IBM\", \"Oracle\", \"Amazon\"]\n",
    "print(it_companies[0], it_companies[int(len(it_companies)/2)], it_companies[-1])"
   ]
  },
  {
   "cell_type": "markdown",
   "metadata": {},
   "source": [
    "5.imprimez la liste après avoir modifié l'une des entreprises."
   ]
  },
  {
   "cell_type": "code",
   "execution_count": 23,
   "metadata": {},
   "outputs": [
    {
     "name": "stdout",
     "output_type": "stream",
     "text": [
      "['Facebook', 'Google', 'Microsoft', 'Apple', 'IBM', 'Orange', 'Amazon']\n"
     ]
    }
   ],
   "source": [
    "it_companies=[\"Facebook\",\"Google\", \"Microsoft\", \"Apple\", \"IBM\", \"Oracle\", \"Amazon\"]\n",
    "it_companies[-2]=\"Orange\"\n",
    "print(it_companies)"
   ]
  },
  {
   "cell_type": "markdown",
   "metadata": {},
   "source": [
    "6.Ajout d'une entreprise informatique à it_companies"
   ]
  },
  {
   "cell_type": "code",
   "execution_count": 24,
   "metadata": {},
   "outputs": [
    {
     "name": "stdout",
     "output_type": "stream",
     "text": [
      "['Facebook', 'Google', 'Microsoft', 'Apple', 'IBM', 'Oracle', 'Amazon', 'Informatic']\n"
     ]
    }
   ],
   "source": [
    "it_companies=[\"Facebook\",\"Google\", \"Microsoft\", \"Apple\", \"IBM\", \"Oracle\", \"Amazon\"]\n",
    "it_companies.append(\"Informatic\")\n",
    "print(it_companies)"
   ]
  },
  {
   "cell_type": "markdown",
   "metadata": {},
   "source": [
    "7.Insérer une entreprise informatique au milieu de la liste des entreprises"
   ]
  },
  {
   "cell_type": "code",
   "execution_count": 26,
   "metadata": {},
   "outputs": [
    {
     "name": "stdout",
     "output_type": "stream",
     "text": [
      "['Facebook', 'Google', 'Microsoft', 'Apple', 'informatic', 'IBM', 'Oracle', 'Amazon']\n"
     ]
    }
   ],
   "source": [
    "it_companies=[\"Facebook\",\"Google\", \"Microsoft\", \"Apple\", \"IBM\", \"Oracle\", \"Amazon\"]\n",
    "it_companies.insert(int(len(it_companies)/2)+1, \"informatic\")\n",
    "print(it_companies)\n"
   ]
  },
  {
   "cell_type": "markdown",
   "metadata": {},
   "source": [
    "8.Changez le nom d'une des it_companies en majuscule (sauf IBM !)"
   ]
  },
  {
   "cell_type": "code",
   "execution_count": 32,
   "metadata": {},
   "outputs": [
    {
     "name": "stdout",
     "output_type": "stream",
     "text": [
      "MICROSOFT\n"
     ]
    }
   ],
   "source": [
    "it_companies=[\"Facebook\",\"Google\", \"Microsoft\", \"Apple\", \"IBM\", \"Oracle\", \"Amazon\"]\n",
    "y=it_companies[2].upper()\n",
    "print(y)"
   ]
  },
  {
   "cell_type": "markdown",
   "metadata": {},
   "source": [
    "9.Joignez les it_companies avec une chaîne '# ; '."
   ]
  },
  {
   "cell_type": "code",
   "execution_count": 27,
   "metadata": {},
   "outputs": [
    {
     "name": "stdout",
     "output_type": "stream",
     "text": [
      "Facebook# ;Google# ;Microsoft# ;Apple# ;IBM# ;Oracle# ;Amazon\n"
     ]
    }
   ],
   "source": [
    "it_companies=[\"Facebook\",\"Google\", \"Microsoft\", \"Apple\", \"IBM\", \"Oracle\", \"Amazon\"]\n",
    "y=\"# ;\".join(it_companies)\n",
    "print(y)"
   ]
  },
  {
   "cell_type": "markdown",
   "metadata": {},
   "source": [
    "10.Vérifier si une certaine entreprise existe dans la liste it_companies."
   ]
  },
  {
   "cell_type": "code",
   "execution_count": 29,
   "metadata": {},
   "outputs": [
    {
     "name": "stdout",
     "output_type": "stream",
     "text": [
      "IBM est dans la liste\n"
     ]
    }
   ],
   "source": [
    "it_companies=[\"Facebook\",\"Google\", \"Microsoft\", \"Apple\", \"IBM\", \"Oracle\", \"Amazon\"]\n",
    "if \"IBM\" in it_companies:\n",
    "    print(\"IBM est dans la liste\")\n",
    "else:\n",
    "    print(\"IBM est dans la liste\")"
   ]
  },
  {
   "cell_type": "markdown",
   "metadata": {},
   "source": [
    "11.Trier la liste en utilisant la méthode sort()"
   ]
  },
  {
   "cell_type": "code",
   "execution_count": 30,
   "metadata": {},
   "outputs": [
    {
     "name": "stdout",
     "output_type": "stream",
     "text": [
      "['Amazon', 'Apple', 'Facebook', 'Google', 'IBM', 'Microsoft', 'Oracle']\n"
     ]
    }
   ],
   "source": [
    "it_companies=[\"Facebook\",\"Google\", \"Microsoft\", \"Apple\", \"IBM\", \"Oracle\", \"Amazon\"]\n",
    "it_companies.sort()\n",
    "print(it_companies)"
   ]
  },
  {
   "cell_type": "markdown",
   "metadata": {},
   "source": [
    "12.Inversez la liste par ordre décroissant à l'aide de la méthode reverse()."
   ]
  },
  {
   "cell_type": "code",
   "execution_count": 31,
   "metadata": {},
   "outputs": [
    {
     "name": "stdout",
     "output_type": "stream",
     "text": [
      "['Amazon', 'Oracle', 'IBM', 'Apple', 'Microsoft', 'Google', 'Facebook']\n"
     ]
    }
   ],
   "source": [
    "it_companies=[\"Facebook\",\"Google\", \"Microsoft\", \"Apple\", \"IBM\", \"Oracle\", \"Amazon\"]\n",
    "it_companies.reverse()\n",
    "print(it_companies)\n"
   ]
  },
  {
   "cell_type": "markdown",
   "metadata": {},
   "source": [
    "13.Supprimez les 3 premières entreprises de la liste."
   ]
  },
  {
   "cell_type": "code",
   "execution_count": 36,
   "metadata": {},
   "outputs": [
    {
     "name": "stdout",
     "output_type": "stream",
     "text": [
      "['Apple', 'IBM', 'Oracle', 'Amazon']\n"
     ]
    }
   ],
   "source": [
    "it_companies=[\"Facebook\",\"Google\", \"Microsoft\", \"Apple\", \"IBM\", \"Oracle\", \"Amazon\"]\n",
    "del it_companies[0:3]\n",
    "print(it_companies)"
   ]
  },
  {
   "cell_type": "markdown",
   "metadata": {},
   "source": [
    "14.Supprimez les 3 dernières entreprises de la liste."
   ]
  },
  {
   "cell_type": "code",
   "execution_count": 33,
   "metadata": {},
   "outputs": [
    {
     "name": "stdout",
     "output_type": "stream",
     "text": [
      "['Facebook', 'Google', 'Microsoft', 'Apple']\n"
     ]
    }
   ],
   "source": [
    "it_companies=[\"Facebook\",\"Google\", \"Microsoft\", \"Apple\", \"IBM\", \"Oracle\", \"Amazon\"]\n",
    "del it_companies[-3:]\n",
    "print(it_companies)"
   ]
  },
  {
   "cell_type": "markdown",
   "metadata": {},
   "source": [
    "15.Supprimez la ou les entreprises informatiques du milieu de la liste."
   ]
  },
  {
   "cell_type": "code",
   "execution_count": 34,
   "metadata": {},
   "outputs": [
    {
     "name": "stdout",
     "output_type": "stream",
     "text": [
      "['Facebook', 'Google', 'Microsoft', 'IBM', 'Oracle', 'Amazon']\n"
     ]
    }
   ],
   "source": [
    "it_companies=[\"Facebook\",\"Google\", \"Microsoft\", \"Apple\", \"IBM\", \"Oracle\", \"Amazon\"]\n",
    "del it_companies[int(len(it_companies)/2)]\n",
    "print(it_companies)"
   ]
  },
  {
   "cell_type": "markdown",
   "metadata": {},
   "source": [
    "16.Supprimez la première entreprise informatique de la liste"
   ]
  },
  {
   "cell_type": "code",
   "execution_count": 35,
   "metadata": {},
   "outputs": [
    {
     "name": "stdout",
     "output_type": "stream",
     "text": [
      "['Google', 'Microsoft', 'Apple', 'IBM', 'Oracle', 'Amazon']\n"
     ]
    }
   ],
   "source": [
    "it_companies=[\"Facebook\",\"Google\", \"Microsoft\", \"Apple\", \"IBM\", \"Oracle\", \"Amazon\"]\n",
    "del it_companies[0]\n",
    "print(it_companies)"
   ]
  },
  {
   "cell_type": "markdown",
   "metadata": {},
   "source": [
    "17.Supprimez la ou les entreprises informatiques du milieu de la liste."
   ]
  },
  {
   "cell_type": "code",
   "execution_count": null,
   "metadata": {},
   "outputs": [],
   "source": [
    "it_companies=[\"Facebook\",\"Google\", \"Microsoft\", \"Apple\", \"IBM\", \"Oracle\", \"Amazon\"]\n",
    "del it_companies[int(len(it_companies)/2)]\n",
    "print(it_companies)"
   ]
  },
  {
   "cell_type": "markdown",
   "metadata": {},
   "source": [
    "18.Retirer la dernière entreprise informatique de la liste"
   ]
  },
  {
   "cell_type": "code",
   "execution_count": 38,
   "metadata": {},
   "outputs": [
    {
     "name": "stdout",
     "output_type": "stream",
     "text": [
      "['Facebook', 'Google', 'Microsoft', 'Apple', 'IBM', 'Oracle']\n"
     ]
    }
   ],
   "source": [
    "it_companies=[\"Facebook\",\"Google\", \"Microsoft\", \"Apple\", \"IBM\", \"Oracle\", \"Amazon\"]\n",
    "del it_companies[-1]\n",
    "print(it_companies)"
   ]
  },
  {
   "cell_type": "markdown",
   "metadata": {},
   "source": [
    "19.Supprimez toutes les entreprises informatiques de la liste"
   ]
  },
  {
   "cell_type": "code",
   "execution_count": 40,
   "metadata": {},
   "outputs": [
    {
     "name": "stdout",
     "output_type": "stream",
     "text": [
      "[]\n"
     ]
    }
   ],
   "source": [
    "it_companies=[\"Facebook\",\"Google\", \"Microsoft\", \"Apple\", \"IBM\", \"Oracle\", \"Amazon\"]\n",
    "del it_companies[0:]\n",
    "print(it_companies)"
   ]
  },
  {
   "cell_type": "code",
   "execution_count": 41,
   "metadata": {},
   "outputs": [
    {
     "name": "stdout",
     "output_type": "stream",
     "text": [
      "[]\n"
     ]
    }
   ],
   "source": [
    "it_companies=[\"Facebook\",\"Google\", \"Microsoft\", \"Apple\", \"IBM\", \"Oracle\", \"Amazon\"]\n",
    "it_companies.clear()\n",
    "print(it_companies)"
   ]
  },
  {
   "cell_type": "markdown",
   "metadata": {},
   "source": [
    "20.Détruire la liste des entreprises informatiques"
   ]
  },
  {
   "cell_type": "markdown",
   "metadata": {
    "id": "AfauolZA8p4V"
   },
   "source": [
    "#### **Exercice 06:** \n",
    "**Joindre les listes suivantes :**\n",
    "     \n",
    "         front_end = ['HTML', 'CSS', 'JS', 'React', 'Redux']  \n",
    "         back_end = ['Node','Express', 'MongoDB']"
   ]
  },
  {
   "cell_type": "code",
   "execution_count": 42,
   "metadata": {},
   "outputs": [
    {
     "name": "stdout",
     "output_type": "stream",
     "text": [
      "['HTML', 'CSS', 'JS', 'React', 'Redux', 'Node', 'Express', 'MongoDB']\n"
     ]
    }
   ],
   "source": [
    "front_end = ['HTML', 'CSS', 'JS', 'React', 'Redux']  \n",
    "back_end = ['Node','Express', 'MongoDB']\n",
    "front_end.extend(back_end)\n",
    "print(front_end)"
   ]
  },
  {
   "cell_type": "markdown",
   "metadata": {
    "id": "kASFM1bh8p4X"
   },
   "source": [
    "#### **Exercice 07:** \n",
    "Voici une liste de 10 âges d'étudiants :\n",
    "\n",
    "         ages = [19, 22, 19, 24, 20, 25, 26, 24, 25, 24]\n",
    "         \n",
    " \n",
    "    1. Trier la liste et trouver l'âge minimum et maximum.\n",
    "    2. Ajoutez à nouveau l'âge minimum et l'âge maximum à la liste.\n",
    "    3. Trouvez l'âge médian (un élément du milieu ou deux éléments du milieu divisés par deux).\n",
    "    4. Trouvez l'âge moyen (somme de tous les éléments divisée par leur nombre).\n",
    "    4. Trouver l'intervalle des âges (max moins min)\n",
    "    5. Comparez les valeurs de (min - moyenne) et (max - moyenne) en utilisant la méthode abs().\n",
    "        "
   ]
  },
  {
   "cell_type": "markdown",
   "metadata": {
    "id": "TWTGGaOO8p4Z"
   },
   "source": [
    "1. Trier la liste et trouver l'âge minimum et maximum."
   ]
  },
  {
   "cell_type": "code",
   "execution_count": 47,
   "metadata": {},
   "outputs": [
    {
     "name": "stdout",
     "output_type": "stream",
     "text": [
      "19 26\n"
     ]
    }
   ],
   "source": [
    "ages = [19, 22, 19, 24, 20, 25, 26, 24, 25, 24]\n",
    "ages.sort()  \n",
    "print(ages[0],ages[-1])"
   ]
  },
  {
   "cell_type": "markdown",
   "metadata": {
    "id": "TEtbXitA8p4h"
   },
   "source": [
    "2. Ajoutez à nouveau l'âge minimum et l'âge maximum à la liste."
   ]
  },
  {
   "cell_type": "code",
   "execution_count": 48,
   "metadata": {},
   "outputs": [
    {
     "name": "stdout",
     "output_type": "stream",
     "text": [
      "[19, 19, 20, 22, 24, 24, 24, 25, 25, 26, 19, 26]\n"
     ]
    }
   ],
   "source": [
    "ages.extend([19,26])\n",
    "print(ages)"
   ]
  },
  {
   "cell_type": "markdown",
   "metadata": {},
   "source": [
    "3. Trouvez l'âge médian (un élément du milieu ou deux éléments du milieu divisés par deux)."
   ]
  },
  {
   "cell_type": "code",
   "execution_count": 49,
   "metadata": {},
   "outputs": [
    {
     "name": "stdout",
     "output_type": "stream",
     "text": [
      "24\n"
     ]
    }
   ],
   "source": [
    "print(ages[int(len(ages)/2)])"
   ]
  },
  {
   "cell_type": "markdown",
   "metadata": {},
   "source": [
    "4. Trouvez l'âge moyen (somme de tous les éléments divisée par leur nombre)."
   ]
  },
  {
   "cell_type": "code",
   "execution_count": 50,
   "metadata": {},
   "outputs": [
    {
     "name": "stdout",
     "output_type": "stream",
     "text": [
      "22\n"
     ]
    }
   ],
   "source": [
    "for i in range(len(ages)):\n",
    "    ages.append(ages[i])\n",
    "x=sum(ages)\n",
    "print(int(x/len(ages)))"
   ]
  },
  {
   "cell_type": "markdown",
   "metadata": {},
   "source": [
    "4. Trouver l'intervalle des âges (max moins min)"
   ]
  },
  {
   "cell_type": "code",
   "execution_count": 51,
   "metadata": {},
   "outputs": [
    {
     "name": "stdout",
     "output_type": "stream",
     "text": [
      "26 19\n"
     ]
    }
   ],
   "source": [
    "ages.sort()\n",
    "print(ages[-1],ages[0])"
   ]
  },
  {
   "cell_type": "markdown",
   "metadata": {},
   "source": [
    "5. Comparez les valeurs de (min - moyenne) et (max - moyenne) en utilisant la méthode abs()."
   ]
  },
  {
   "cell_type": "code",
   "execution_count": 53,
   "metadata": {},
   "outputs": [
    {
     "data": {
      "text/plain": [
       "7"
      ]
     },
     "execution_count": 53,
     "metadata": {},
     "output_type": "execute_result"
    }
   ],
   "source": [
    "import math\n",
    "min_moy=19-22\n",
    "max_moy=26-22\n",
    "abs(min_moy-max_moy)"
   ]
  },
  {
   "cell_type": "markdown",
   "metadata": {
    "id": "bF7FI4iT8p4i"
   },
   "source": [
    "###  <center> <b> <span style=\"color:blue;\"> Dictionnaires </span> </b></center>"
   ]
  },
  {
   "cell_type": "markdown",
   "metadata": {
    "id": "VzcSJMf18p4j"
   },
   "source": [
    "\n",
    "1. Créer un dictionnaire vide appelé `dog`\n",
    "2. Ajoute le nom, la couleur, la race, les pattes, l'âge au dictionnaire dog.\n",
    "3. Créez un dictionnaire student et ajoutez le prénom, le nom, le sexe, l'âge, l'état civil, les compétences, le pays, la ville et l'adresse comme clés pour le dictionnaire.\n",
    "4. Obtenez la longueur du dictionnaire student\n",
    "5. Récupérez la valeur des compétences et vérifiez le type de données, il doit s'agir d'une liste.\n",
    "6. Modifiez les valeurs des compétences en ajoutant une ou deux compétences.\n",
    "7. Obtenez les clés du dictionnaire sous forme de liste\n",
    "8. Obtenir les valeurs du dictionnaire sous forme de liste\n",
    "9. Transformer le dictionnaire en une liste de tuples en utilisant la méthode items()\n",
    "10. Supprimer un des éléments du dictionnaire\n",
    "11. Supprimer un des dictionnaires\n"
   ]
  },
  {
   "cell_type": "markdown",
   "metadata": {},
   "source": [
    "1.Créer un dictionnaire vide appelé dog"
   ]
  },
  {
   "cell_type": "code",
   "execution_count": 1,
   "metadata": {},
   "outputs": [],
   "source": [
    "dog={}"
   ]
  },
  {
   "cell_type": "markdown",
   "metadata": {},
   "source": [
    "2.Ajoute le nom, la couleur, la race, les pattes, l'âge au dictionnaire dog."
   ]
  },
  {
   "cell_type": "code",
   "execution_count": 2,
   "metadata": {},
   "outputs": [
    {
     "name": "stdout",
     "output_type": "stream",
     "text": [
      "{'name': 'Fama', 'couleur': 'Blau', 'race': 'noire', 'pattes': 2, 'ages': 25}\n"
     ]
    }
   ],
   "source": [
    "dog[\"name\"]=\"Fama\"\n",
    "dog[\"couleur\"]=\"Blau\"\n",
    "dog[\"race\"]=\"noire\"\n",
    "dog[\"pattes\"]=2\n",
    "dog[\"ages\"]=25\n",
    "print(dog)"
   ]
  },
  {
   "cell_type": "markdown",
   "metadata": {},
   "source": [
    "3.Créez un dictionnaire student et ajoutez..."
   ]
  },
  {
   "cell_type": "code",
   "execution_count": 6,
   "metadata": {},
   "outputs": [
    {
     "name": "stdout",
     "output_type": "stream",
     "text": [
      "{'prenom': 'Fama fall', 'nom': 'GUENE', 'sexe': 'F', 'age': 25, 'etat civil': 'Mariée', 'competences': ['Analyse de donnée', 'Gestion des projet'], 'Pays': 'senegal', 'ville': 'Dakar', 'adresse': 'Sud foire'}\n"
     ]
    }
   ],
   "source": [
    "student={\"prenom\":\"Fama fall\",\"nom\":\"GUENE\",\"sexe\":\"F\",\"age\":25,\"etat civil\":\"Mariée\",\"competences\":[\"Analyse de donnée\",\"Gestion des projet\"],\"Pays\":\"senegal\",\"ville\":\"Dakar\",\"adresse\":\"Sud foire\"}\n",
    "print(student)"
   ]
  },
  {
   "cell_type": "markdown",
   "metadata": {},
   "source": [
    "4.obtenez la longueur du dictionnaire student"
   ]
  },
  {
   "cell_type": "code",
   "execution_count": 7,
   "metadata": {},
   "outputs": [
    {
     "name": "stdout",
     "output_type": "stream",
     "text": [
      "9\n"
     ]
    }
   ],
   "source": [
    "print(len(student))"
   ]
  },
  {
   "cell_type": "markdown",
   "metadata": {},
   "source": [
    "5.Récupérez la valeur des compétences et vérifiez le type de données, il doit s'agir d'une liste."
   ]
  },
  {
   "cell_type": "code",
   "execution_count": 8,
   "metadata": {},
   "outputs": [
    {
     "name": "stdout",
     "output_type": "stream",
     "text": [
      "['Analyse de donnée', 'Gestion des projet'] <class 'list'>\n"
     ]
    }
   ],
   "source": [
    "print(student[\"competences\"],type(student[\"competences\"]))"
   ]
  },
  {
   "cell_type": "markdown",
   "metadata": {},
   "source": [
    "6.Modifiez les valeurs des compétences en ajoutant une ou deux compétences."
   ]
  },
  {
   "cell_type": "code",
   "execution_count": 9,
   "metadata": {},
   "outputs": [
    {
     "name": "stdout",
     "output_type": "stream",
     "text": [
      "['Analyse de donnée', 'Gestion des projet', 'Prise de décision', 'Travail en équipe']\n"
     ]
    }
   ],
   "source": [
    "student[\"competences\"].extend([\"Prise de décision\",\"Travail en équipe\"])\n",
    "print(student[\"competences\"])"
   ]
  },
  {
   "cell_type": "markdown",
   "metadata": {},
   "source": [
    "7.Obtenez les clés du dictionnaire sous forme de liste"
   ]
  },
  {
   "cell_type": "code",
   "execution_count": 10,
   "metadata": {},
   "outputs": [
    {
     "name": "stdout",
     "output_type": "stream",
     "text": [
      "dict_keys(['prenom', 'nom', 'sexe', 'age', 'etat civil', 'competences', 'Pays', 'ville', 'adresse'])\n"
     ]
    }
   ],
   "source": [
    "print(student.keys())"
   ]
  },
  {
   "cell_type": "markdown",
   "metadata": {},
   "source": [
    "8.obtenir les valeurs du dictionnaire sous forme de liste"
   ]
  },
  {
   "cell_type": "code",
   "execution_count": 11,
   "metadata": {},
   "outputs": [
    {
     "name": "stdout",
     "output_type": "stream",
     "text": [
      "dict_values(['Fama fall', 'GUENE', 'F', 25, 'Mariée', ['Analyse de donnée', 'Gestion des projet', 'Prise de décision', 'Travail en équipe'], 'senegal', 'Dakar', 'Sud foire'])\n"
     ]
    }
   ],
   "source": [
    "print(student.values())"
   ]
  },
  {
   "cell_type": "markdown",
   "metadata": {},
   "source": [
    "9.Transformer le dictionnaire en une liste de tuples en utilisant la méthode items()"
   ]
  },
  {
   "cell_type": "code",
   "execution_count": 12,
   "metadata": {},
   "outputs": [
    {
     "data": {
      "text/plain": [
       "dict_items([('prenom', 'Fama fall'), ('nom', 'GUENE'), ('sexe', 'F'), ('age', 25), ('etat civil', 'Mariée'), ('competences', ['Analyse de donnée', 'Gestion des projet', 'Prise de décision', 'Travail en équipe']), ('Pays', 'senegal'), ('ville', 'Dakar'), ('adresse', 'Sud foire')])"
      ]
     },
     "execution_count": 12,
     "metadata": {},
     "output_type": "execute_result"
    }
   ],
   "source": [
    "student.items()"
   ]
  },
  {
   "cell_type": "markdown",
   "metadata": {},
   "source": [
    "10.Supprimer un des éléments du dictionnaire"
   ]
  },
  {
   "cell_type": "code",
   "execution_count": 15,
   "metadata": {},
   "outputs": [
    {
     "name": "stdout",
     "output_type": "stream",
     "text": [
      "{'prenom': 'Fama fall', 'nom': 'GUENE', 'sexe': 'F', 'age': 25, 'etat civil': 'Mariée', 'Pays': 'senegal', 'ville': 'Dakar', 'adresse': 'Sud foire'}\n"
     ]
    }
   ],
   "source": [
    "student={\"prenom\":\"Fama fall\",\"nom\":\"GUENE\",\"sexe\":\"F\",\"age\":25,\"etat civil\":\"Mariée\",\"competences\":[\"Analyse de donnée\",\"Gestion des projet\"],\"Pays\":\"senegal\",\"ville\":\"Dakar\",\"adresse\":\"Sud foire\"}\n",
    "del student[\"competences\"]\n",
    "print(student)"
   ]
  },
  {
   "cell_type": "markdown",
   "metadata": {},
   "source": [
    "11.Supprimer un des dictionnaires"
   ]
  },
  {
   "cell_type": "code",
   "execution_count": 14,
   "metadata": {
    "id": "rNdDqviE8p4l"
   },
   "outputs": [
    {
     "name": "stdout",
     "output_type": "stream",
     "text": [
      "[{'name': 'Fama', 'couleur': 'Blau', 'race': 'noire', 'pattes': 2, 'ages': 25}, {'prenom': 'Fama fall', 'nom': 'GUENE', 'sexe': 'F', 'age': 25, 'etat civil': 'Mariée', 'Pays': 'senegal', 'ville': 'Dakar', 'adresse': 'Sud foire'}]\n",
      "[{'prenom': 'Fama fall', 'nom': 'GUENE', 'sexe': 'F', 'age': 25, 'etat civil': 'Mariée', 'Pays': 'senegal', 'ville': 'Dakar', 'adresse': 'Sud foire'}]\n"
     ]
    }
   ],
   "source": [
    "L=[dog,student]\n",
    "print(L)\n",
    "L.remove(dog)\n",
    "print(L)\n"
   ]
  },
  {
   "cell_type": "markdown",
   "metadata": {
    "id": "ugc1Itzb8p4l"
   },
   "source": [
    "<center> <b> <span style=\"color:orange;\"> 🎉 FÉLICITATIONS ! / CONGRATULATIONS !🎉 </span> </b></center>"
   ]
  }
 ],
 "metadata": {
  "colab": {
   "name": "Init2Py_Practical_03.ipynb",
   "provenance": []
  },
  "kernelspec": {
   "display_name": "Python 3",
   "language": "python",
   "name": "python3"
  },
  "language_info": {
   "codemirror_mode": {
    "name": "ipython",
    "version": 3
   },
   "file_extension": ".py",
   "mimetype": "text/x-python",
   "name": "python",
   "nbconvert_exporter": "python",
   "pygments_lexer": "ipython3",
   "version": "3.8.10"
  }
 },
 "nbformat": 4,
 "nbformat_minor": 1
}
